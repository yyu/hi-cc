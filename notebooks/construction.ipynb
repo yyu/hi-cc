{
 "cells": [
  {
   "cell_type": "code",
   "execution_count": 1,
   "metadata": {},
   "outputs": [],
   "source": [
    "#include <iostream>"
   ]
  },
  {
   "cell_type": "code",
   "execution_count": 2,
   "metadata": {},
   "outputs": [],
   "source": [
    "void ________________() {\n",
    "    std::cout << std::string(80, '-') << \"\\n\";\n",
    "}"
   ]
  },
  {
   "cell_type": "code",
   "execution_count": 3,
   "metadata": {},
   "outputs": [],
   "source": [
    "class Foo {\n",
    "public:\n",
    "    Foo(int x) : x_(x) {\n",
    "        std::cout << \"I'm Foo's constructor.\" << \"\\n\";\n",
    "    }\n",
    "\n",
    "    Foo(const Foo& other) : x_(other.x_) {\n",
    "        std::cout << \"I'm Foo's copy constructor.\" << \"\\n\";\n",
    "    }\n",
    "\n",
    "    Foo(Foo&& other) : x_(std::move(other.x_)) {\n",
    "        std::cout << \"I'm Foo's move constructor.\" << \"\\n\";\n",
    "    }\n",
    "\n",
    "    void func() {\n",
    "        std::cout << \"Foo::func() \" << x_ << \"\\n\";\n",
    "    }\n",
    "\n",
    "private:\n",
    "    int x_;\n",
    "};"
   ]
  },
  {
   "cell_type": "code",
   "execution_count": 4,
   "metadata": {},
   "outputs": [],
   "source": [
    "void DoFoo(Foo f) {  // pass Foo by value -- a new Foo will be constructed each time this is called\n",
    "                     //                      however, a caller still have control of how it is\n",
    "                     //                      constructed (move or copy)\n",
    "    std::cout << \"DoFoo(Foo)\" << \"\\n\";\n",
    "    Foo f2{std::move(f)};\n",
    "    f2.func();\n",
    "}"
   ]
  },
  {
   "cell_type": "code",
   "execution_count": 5,
   "metadata": {},
   "outputs": [
    {
     "name": "stdout",
     "output_type": "stream",
     "text": [
      "--------------------------------------------------------------------------------\n",
      "I'm Foo's constructor.\n",
      "--------------------------------------------------------------------------------\n",
      "I'm Foo's copy constructor.\n",
      "DoFoo(Foo)\n",
      "I'm Foo's move constructor.\n",
      "Foo::func() 100\n",
      "--------------------------------------------------------------------------------\n"
     ]
    }
   ],
   "source": [
    "[](){\n",
    "    ________________();\n",
    "    Foo foo{100};\n",
    "    ________________();\n",
    "    DoFoo(foo);  // DoFoo() will construct f using Foo's copy constructor\n",
    "    ________________();\n",
    "}();"
   ]
  },
  {
   "cell_type": "code",
   "execution_count": 6,
   "metadata": {},
   "outputs": [
    {
     "name": "stdout",
     "output_type": "stream",
     "text": [
      "--------------------------------------------------------------------------------\n",
      "I'm Foo's constructor.\n",
      "--------------------------------------------------------------------------------\n",
      "I'm Foo's move constructor.\n",
      "DoFoo(Foo)\n",
      "I'm Foo's move constructor.\n",
      "Foo::func() 200\n",
      "--------------------------------------------------------------------------------\n"
     ]
    }
   ],
   "source": [
    "[](){\n",
    "    ________________();\n",
    "    Foo foo{200};\n",
    "    ________________();\n",
    "    DoFoo(std::move(foo));  // DoFoo will construct f, this time using Foo's move constructor\n",
    "    ________________();\n",
    "}();"
   ]
  }
 ],
 "metadata": {
  "kernelspec": {
   "display_name": "C++17",
   "language": "C++17",
   "name": "xcpp17"
  },
  "language_info": {
   "codemirror_mode": "text/x-c++src",
   "file_extension": ".cpp",
   "mimetype": "text/x-c++src",
   "name": "c++",
   "version": "17"
  }
 },
 "nbformat": 4,
 "nbformat_minor": 4
}

{
 "cells": [
  {
   "cell_type": "code",
   "execution_count": 1,
   "metadata": {
    "ExecuteTime": {
     "end_time": "2019-04-30T21:28:33Z\u0000",
     "start_time": "2019-04-30T21:28:33Z\u0000"
    }
   },
   "outputs": [],
   "source": [
    "#include <iostream>"
   ]
  },
  {
   "cell_type": "code",
   "execution_count": 2,
   "metadata": {
    "ExecuteTime": {
     "end_time": "2019-04-30T21:28:34Z\u0000",
     "start_time": "2019-04-30T21:28:34Z\u0000"
    }
   },
   "outputs": [],
   "source": [
    "int fn(const int& a, const int& b)\n",
    "{\n",
    "    return a + b;\n",
    "}\n"
   ]
  },
  {
   "cell_type": "code",
   "execution_count": 3,
   "metadata": {
    "ExecuteTime": {
     "end_time": "2019-04-30T21:28:35Z\u0000",
     "start_time": "2019-04-30T21:28:35Z\u0000"
    }
   },
   "outputs": [],
   "source": [
    "\n",
    "int fn(const int& a, int&& b)\n",
    "{\n",
    "    b += a;\n",
    "    return b;\n",
    "}"
   ]
  },
  {
   "cell_type": "code",
   "execution_count": 4,
   "metadata": {
    "ExecuteTime": {
     "end_time": "2019-04-30T21:28:36Z\u0000",
     "start_time": "2019-04-30T21:28:35Z\u0000"
    }
   },
   "outputs": [
    {
     "name": "stdout",
     "output_type": "stream",
     "text": [
      "a = 3\n",
      "b = 5\n",
      "c = 8\n"
     ]
    }
   ],
   "source": [
    "[](){\n",
    "    int a = 3;\n",
    "    int b = 5;\n",
    "    int c = fn(a, b);\n",
    "    std::cout << \"a = \" << a << std::endl;\n",
    "    std::cout << \"b = \" << b << std::endl;\n",
    "    std::cout << \"c = \" << c << std::endl;\n",
    "}();"
   ]
  },
  {
   "cell_type": "code",
   "execution_count": 5,
   "metadata": {
    "ExecuteTime": {
     "end_time": "2019-04-30T21:28:37Z\u0000",
     "start_time": "2019-04-30T21:28:37Z\u0000"
    }
   },
   "outputs": [
    {
     "name": "stdout",
     "output_type": "stream",
     "text": [
      "a = 3\n",
      "b = 8\n",
      "c = 8\n"
     ]
    }
   ],
   "source": [
    "[](){\n",
    "    int a = 3;\n",
    "    int b = 5;\n",
    "    int c = fn(a, std::move(b));\n",
    "    std::cout << \"a = \" << a << std::endl;\n",
    "    std::cout << \"b = \" << b << std::endl;\n",
    "    std::cout << \"c = \" << c << std::endl;\n",
    "}();"
   ]
  }
 ],
 "metadata": {
  "hide_input": false,
  "kernelspec": {
   "display_name": "C++17",
   "language": "C++17",
   "name": "xeus-cling-cpp17"
  },
  "language_info": {
   "codemirror_mode": "text/x-c++src",
   "file_extension": ".cpp",
   "mimetype": "text/x-c++src",
   "name": "c++",
   "version": "-std=c++17"
  },
  "varInspector": {
   "cols": {
    "lenName": 16,
    "lenType": 16,
    "lenVar": 40
   },
   "kernels_config": {
    "python": {
     "delete_cmd_postfix": "",
     "delete_cmd_prefix": "del ",
     "library": "var_list.py",
     "varRefreshCmd": "print(var_dic_list())"
    },
    "r": {
     "delete_cmd_postfix": ") ",
     "delete_cmd_prefix": "rm(",
     "library": "var_list.r",
     "varRefreshCmd": "cat(var_dic_list()) "
    }
   },
   "types_to_exclude": [
    "module",
    "function",
    "builtin_function_or_method",
    "instance",
    "_Feature"
   ],
   "window_display": false
  }
 },
 "nbformat": 4,
 "nbformat_minor": 2
}

{
 "cells": [
  {
   "cell_type": "markdown",
   "metadata": {
    "ExecuteTime": {
     "end_time": "2019-03-19T02:36:47Z\u0000",
     "start_time": "2019-03-19T02:36:47Z\u0000"
    }
   },
   "source": [
    "## built-in literals"
   ]
  },
  {
   "cell_type": "markdown",
   "metadata": {},
   "source": [
    "-----"
   ]
  },
  {
   "cell_type": "markdown",
   "metadata": {},
   "source": [
    "from `/Applications/Xcode.app/Contents/Developer/Toolchains/XcodeDefault.xctoolchain/usr/include/c++/v1/complex`:\n",
    "\n",
    "```c++\n",
    "#if _LIBCPP_STD_VER > 11 \n",
    "// Literal suffix for complex number literals [complex.literals]\n",
    "inline namespace literals\n",
    "{ \n",
    "  inline namespace complex_literals\n",
    "  {\n",
    "    . . .\n",
    "    constexpr complex<double> operator\"\"i(long double __im)\n",
    "    {\n",
    "        return { 0.0, static_cast<double>(__im) };\n",
    "    }\n",
    "\n",
    "    constexpr complex<double> operator\"\"i(unsigned long long __im)\n",
    "    {\n",
    "        return { 0.0, static_cast<double>(__im) };\n",
    "    }\n",
    "    . . .\n",
    "  }\n",
    "}\n",
    "#endif\n",
    "```"
   ]
  },
  {
   "cell_type": "markdown",
   "metadata": {},
   "source": [
    "-----"
   ]
  },
  {
   "cell_type": "code",
   "execution_count": 1,
   "metadata": {
    "ExecuteTime": {
     "end_time": "2019-03-20T09:51:05Z\u0000",
     "start_time": "2019-03-20T09:51:05Z\u0000"
    }
   },
   "outputs": [],
   "source": [
    "#include <iostream>"
   ]
  },
  {
   "cell_type": "code",
   "execution_count": 2,
   "metadata": {
    "ExecuteTime": {
     "end_time": "2019-03-20T09:51:05Z\u0000",
     "start_time": "2019-03-20T09:51:05Z\u0000"
    }
   },
   "outputs": [
    {
     "name": "stdout",
     "output_type": "stream",
     "text": [
      "I'm not zero-terminated array of char"
     ]
    }
   ],
   "source": [
    "[](){\n",
    "    using namespace std::string_literals;\n",
    "    std::string cxxstr = \"I'm not zero-terminated array of char\"s;\n",
    "    std::cout << cxxstr;\n",
    "}();"
   ]
  },
  {
   "cell_type": "code",
   "execution_count": 3,
   "metadata": {
    "ExecuteTime": {
     "end_time": "2019-03-20T09:51:07Z\u0000",
     "start_time": "2019-03-20T09:51:06Z\u0000"
    }
   },
   "outputs": [
    {
     "name": "stdout",
     "output_type": "stream",
     "text": [
      "(3.14,15)\n",
      "(3,15)\n",
      "(3.14,15)\n",
      "(3,14)\n",
      "(3.14,15)\n",
      "(3.1415,9)\n",
      "(3.14,15)\n",
      "1.41421\n"
     ]
    }
   ],
   "source": [
    "// https://en.cppreference.com/w/cpp/numeric/complex/operator\"\"i\n",
    "\n",
    "#include <complex>\n",
    "\n",
    "[](){\n",
    "    using namespace std::literals::complex_literals;\n",
    "    \n",
    "    std::complex z0 = 3.14 + 15i;\n",
    "    std::complex<int> z1 = 3.14 + 15i;\n",
    "    std::complex<double> z2 = 3.14 + 15i;\n",
    "    std::complex z3 = 3.+14i;\n",
    "    auto z4 = 3.14+15i;\n",
    "    // std::complex z5 = 3+14i;  // error: invalid operands to binary expression ('int' and 'complex<double>')\n",
    "    // std::complex<int> z6 = 3+14i;  // ☝︎ same error\n",
    "    std::complex<long double> z7 = 3.1415L+9il;\n",
    "    std::complex<float> z8 = 3.14f+15if;\n",
    "\n",
    "    std::cout\n",
    "        << z0 << std::endl\n",
    "        << z1 << std::endl\n",
    "        << z2 << std::endl\n",
    "        << z3 << std::endl\n",
    "        << z4 << std::endl\n",
    "        << z7 << std::endl\n",
    "        << z8 << std::endl\n",
    "        << abs(1.0+1i) << std::endl\n",
    "    ;\n",
    "}();"
   ]
  },
  {
   "cell_type": "code",
   "execution_count": 4,
   "metadata": {
    "ExecuteTime": {
     "end_time": "2019-03-20T09:51:09Z\u0000",
     "start_time": "2019-03-20T09:51:09Z\u0000"
    }
   },
   "outputs": [
    {
     "name": "stdout",
     "output_type": "stream",
     "text": [
      "1\n",
      "15\n",
      "75\n",
      "75\n",
      "4500\n"
     ]
    }
   ],
   "source": [
    "// https://en.cppreference.com/w/cpp/chrono/operator\"\"h\n",
    "// https://en.cppreference.com/w/cpp/chrono/operator\"\"min\n",
    "// https://en.cppreference.com/w/cpp/chrono/duration/operator_arith4\n",
    "\n",
    "#include <chrono>\n",
    "\n",
    "[](){\n",
    "    using namespace std::chrono_literals;\n",
    "\n",
    "    std::chrono::hours h = 1h;\n",
    "    std::chrono::minutes m = 15min;\n",
    "\n",
    "    auto x = h + m;\n",
    "    std::chrono::minutes y = h + m;\n",
    "    std::chrono::seconds z = h + m;\n",
    "\n",
    "    std::cout\n",
    "        << h.count() << std::endl\n",
    "        << m.count() << std::endl\n",
    "        << x.count() << std::endl\n",
    "        << y.count() << std::endl\n",
    "        << z.count() << std::endl\n",
    "    ;\n",
    "}();"
   ]
  },
  {
   "cell_type": "markdown",
   "metadata": {},
   "source": [
    "-----"
   ]
  },
  {
   "cell_type": "markdown",
   "metadata": {},
   "source": [
    "## user literals"
   ]
  },
  {
   "cell_type": "markdown",
   "metadata": {
    "ExecuteTime": {
     "end_time": "2019-03-19T07:03:40Z\u0000",
     "start_time": "2019-03-19T07:03:40Z\u0000"
    }
   },
   "source": [
    "see https://en.cppreference.com/w/cpp/language/user_literal\n",
    "\n",
    "```c++\n",
    "constexpr long double operator\"\" _deg(long double deg)\n",
    "{\n",
    "    return deg * 3.14159 / 180;\n",
    "}\n",
    "\n",
    "double x = 90.0_deg;\n",
    "std::cout << std::fixed << x << '\\n';\n",
    "```"
   ]
  },
  {
   "cell_type": "markdown",
   "metadata": {},
   "source": [
    "-----"
   ]
  }
 ],
 "metadata": {
  "hide_input": false,
  "kernelspec": {
   "display_name": "C++17",
   "language": "C++17",
   "name": "xeus-cling-cpp17"
  },
  "language_info": {
   "codemirror_mode": "text/x-c++src",
   "file_extension": ".cpp",
   "mimetype": "text/x-c++src",
   "name": "c++",
   "version": "-std=c++17"
  },
  "varInspector": {
   "cols": {
    "lenName": 16,
    "lenType": 16,
    "lenVar": 40
   },
   "kernels_config": {
    "python": {
     "delete_cmd_postfix": "",
     "delete_cmd_prefix": "del ",
     "library": "var_list.py",
     "varRefreshCmd": "print(var_dic_list())"
    },
    "r": {
     "delete_cmd_postfix": ") ",
     "delete_cmd_prefix": "rm(",
     "library": "var_list.r",
     "varRefreshCmd": "cat(var_dic_list()) "
    }
   },
   "types_to_exclude": [
    "module",
    "function",
    "builtin_function_or_method",
    "instance",
    "_Feature"
   ],
   "window_display": false
  }
 },
 "nbformat": 4,
 "nbformat_minor": 2
}

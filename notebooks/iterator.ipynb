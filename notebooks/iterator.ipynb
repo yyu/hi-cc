{
 "cells": [
  {
   "cell_type": "code",
   "execution_count": 1,
   "metadata": {},
   "outputs": [],
   "source": [
    "#include <iostream>\n",
    "#include <utility>\n",
    "#include <string>"
   ]
  },
  {
   "cell_type": "code",
   "execution_count": 2,
   "metadata": {},
   "outputs": [],
   "source": [
    "void ________________() {\n",
    "    std::cout << std::string(80, '-') << \"\\n\";\n",
    "}"
   ]
  },
  {
   "cell_type": "markdown",
   "metadata": {},
   "source": [
    "-----\n",
    "\n",
    "**iterator arithmetic**"
   ]
  },
  {
   "cell_type": "code",
   "execution_count": 3,
   "metadata": {},
   "outputs": [
    {
     "name": "stdout",
     "output_type": "stream",
     "text": [
      "bar\n",
      "1\n"
     ]
    }
   ],
   "source": [
    "[](){\n",
    "    std::vector<std::string> strs = {\"foo\", \"bar\", \"baz\"};\n",
    "    \n",
    "    auto it = strs.begin();\n",
    "    \n",
    "    ++it;\n",
    "    \n",
    "    std::cout << *it << \"\\n\";\n",
    "\n",
    "    std::cout << it - strs.begin() << \"\\n\";\n",
    "}();"
   ]
  },
  {
   "cell_type": "code",
   "execution_count": null,
   "metadata": {},
   "outputs": [],
   "source": []
  }
 ],
 "metadata": {
  "kernelspec": {
   "display_name": "C++17",
   "language": "C++17",
   "name": "xcpp17"
  },
  "language_info": {
   "codemirror_mode": "text/x-c++src",
   "file_extension": ".cpp",
   "mimetype": "text/x-c++src",
   "name": "c++",
   "version": "17"
  }
 },
 "nbformat": 4,
 "nbformat_minor": 4
}

{
 "cells": [
  {
   "cell_type": "code",
   "execution_count": 1,
   "metadata": {},
   "outputs": [],
   "source": [
    "#include <iostream>\n",
    "#include <utility>\n",
    "#include <string>"
   ]
  },
  {
   "cell_type": "code",
   "execution_count": 2,
   "metadata": {},
   "outputs": [],
   "source": [
    "void ________________() {\n",
    "    std::cout << std::string(80, '-') << \"\\n\";\n",
    "}"
   ]
  },
  {
   "cell_type": "code",
   "execution_count": 3,
   "metadata": {},
   "outputs": [
    {
     "name": "stdout",
     "output_type": "stream",
     "text": [
      "pi0 => 3\n",
      "pi0 => 3\n",
      "pi0 => 3\n"
     ]
    }
   ],
   "source": [
    "[]() {\n",
    "    std::pair<std::string, int> foo{\"pi0\", 3};\n",
    "    std::cout << foo.first << \" => \" << foo.second << \"\\n\";\n",
    "\n",
    "    // there will be a copy of foo\n",
    "    auto [s, i] = foo;\n",
    "\n",
    "    std::cout << s << \" => \" << i << \"\\n\";\n",
    "\n",
    "    s = \"pi\";\n",
    "    i = 314;\n",
    "\n",
    "    std::cout << foo.first << \" => \" << foo.second << \"\\n\";\n",
    "}();"
   ]
  },
  {
   "cell_type": "code",
   "execution_count": 4,
   "metadata": {},
   "outputs": [
    {
     "name": "stdout",
     "output_type": "stream",
     "text": [
      "pi0 => 3\n",
      "pi0 => 3\n",
      "pi => 314\n"
     ]
    }
   ],
   "source": [
    "[]() {\n",
    "    std::pair<std::string, int> foo{\"pi0\", 3};\n",
    "    std::cout << foo.first << \" => \" << foo.second << \"\\n\";\n",
    "\n",
    "    // using `&' -- there won't be a copy\n",
    "    auto& [s, i] = foo;\n",
    "\n",
    "    std::cout << s << \" => \" << i << \"\\n\";\n",
    "\n",
    "    s = \"pi\";\n",
    "    i = 314;\n",
    "\n",
    "    std::cout << foo.first << \" => \" << foo.second << \"\\n\";\n",
    "}();"
   ]
  },
  {
   "cell_type": "code",
   "execution_count": 5,
   "metadata": {},
   "outputs": [
    {
     "name": "stdout",
     "output_type": "stream",
     "text": [
      "foo:  pi0 => 3\n",
      "bar: (pi0 => 3) => 3.14\n",
      "--------------------------------------------------------------------------------\n",
      "foo:  pi0 => 3\n",
      "bar: (pi1 => 1) => 3.14\n"
     ]
    }
   ],
   "source": [
    "[]() {\n",
    "    std::pair<std::string, int> foo{\"pi0\", 3};\n",
    "\n",
    "    std::pair<std::pair<std::string, int>, double> bar{foo, 3.14};\n",
    "\n",
    "    std::cout << \"foo:  \" << foo.first << \" => \" << foo.second << \"\\n\";\n",
    "    std::cout << \"bar: (\" << bar.first.first << \" => \" << bar.first.second << \") => \" << bar.second << \"\\n\";\n",
    "\n",
    "    ________________();\n",
    "\n",
    "    // modify bar using structured bindings\n",
    "    auto& [f, d] = bar;\n",
    "    f = std::make_pair(\"pi1\", 1);\n",
    "\n",
    "    std::cout << \"foo:  \" << foo.first << \" => \" << foo.second << \"\\n\";\n",
    "    std::cout << \"bar: (\" << bar.first.first << \" => \" << bar.first.second << \") => \" << bar.second << \"\\n\";\n",
    "}();"
   ]
  },
  {
   "cell_type": "code",
   "execution_count": 6,
   "metadata": {},
   "outputs": [
    {
     "name": "stdout",
     "output_type": "stream",
     "text": [
      "foo:  pi0 => 3\n",
      "bar: (pi0 => 3) => 3.14\n",
      "--------------------------------------------------------------------------------\n",
      "foo:  pi0 => 3\n",
      "bar: (pi1 => 1) => 3.14\n"
     ]
    }
   ],
   "source": [
    "[]() {\n",
    "    std::pair<std::string, int> foo{\"pi0\", 3};\n",
    "\n",
    "    std::pair<std::pair<std::string, int>, double> bar{foo, 3.14};\n",
    "\n",
    "    std::cout << \"foo:  \" << foo.first << \" => \" << foo.second << \"\\n\";\n",
    "    std::cout << \"bar: (\" << bar.first.first << \" => \" << bar.first.second << \") => \" << bar.second << \"\\n\";\n",
    "\n",
    "    ________________();\n",
    "\n",
    "    // modify bar using structured bindings\n",
    "    auto& [f, d] = bar;\n",
    "    auto& [s, i] = f;\n",
    "    s = \"pi1\";\n",
    "    i = 1;\n",
    "\n",
    "    std::cout << \"foo:  \" << foo.first << \" => \" << foo.second << \"\\n\";\n",
    "    std::cout << \"bar: (\" << bar.first.first << \" => \" << bar.first.second << \") => \" << bar.second << \"\\n\";\n",
    "}();"
   ]
  },
  {
   "cell_type": "code",
   "execution_count": 7,
   "metadata": {},
   "outputs": [
    {
     "name": "stdout",
     "output_type": "stream",
     "text": [
      "foo:  pi0 => 3\n",
      "bar: (pi0 => 3) => 3.14\n",
      "--------------------------------------------------------------------------------\n",
      "foo:  pi1 => 1\n",
      "bar: (pi2 => 4) => 3.14\n"
     ]
    }
   ],
   "source": [
    "[]() {\n",
    "    std::pair<std::string, int> foo{\"pi0\", 3};\n",
    "\n",
    "    std::pair<std::pair<std::string, int>, double> bar{foo, 3.14};\n",
    "\n",
    "    std::cout << \"foo:  \" << foo.first << \" => \" << foo.second << \"\\n\";\n",
    "    std::cout << \"bar: (\" << bar.first.first << \" => \" << bar.first.second << \") => \" << bar.second << \"\\n\";\n",
    "\n",
    "    ________________();\n",
    "\n",
    "    // modify foo using structured bindings\n",
    "    auto& [f0, f1] = foo;\n",
    "    f0 = \"pi1\";\n",
    "    f1 = 1;\n",
    "\n",
    "    // modify bar using structured bindings\n",
    "    auto& [f, d] = bar;\n",
    "    auto& [s, i] = f;\n",
    "    s = \"pi2\";\n",
    "    i = 4;\n",
    "\n",
    "    std::cout << \"foo:  \" << foo.first << \" => \" << foo.second << \"\\n\";\n",
    "    std::cout << \"bar: (\" << bar.first.first << \" => \" << bar.first.second << \") => \" << bar.second << \"\\n\";\n",
    "}();"
   ]
  },
  {
   "cell_type": "code",
   "execution_count": null,
   "metadata": {},
   "outputs": [],
   "source": []
  }
 ],
 "metadata": {
  "kernelspec": {
   "display_name": "C++17",
   "language": "C++17",
   "name": "xcpp17"
  },
  "language_info": {
   "codemirror_mode": "text/x-c++src",
   "file_extension": ".cpp",
   "mimetype": "text/x-c++src",
   "name": "c++",
   "version": "17"
  }
 },
 "nbformat": 4,
 "nbformat_minor": 4
}

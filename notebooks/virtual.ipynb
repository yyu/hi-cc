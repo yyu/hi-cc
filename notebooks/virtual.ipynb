{
 "cells": [
  {
   "cell_type": "markdown",
   "metadata": {},
   "source": [
    "-----"
   ]
  },
  {
   "cell_type": "markdown",
   "metadata": {},
   "source": [
    "https://en.cppreference.com/w/cpp/language/virtual\n",
    "\n",
    "https://stackoverflow.com/questions/39932391/virtual-override-or-both-c"
   ]
  },
  {
   "cell_type": "markdown",
   "metadata": {},
   "source": [
    "-----"
   ]
  },
  {
   "cell_type": "markdown",
   "metadata": {},
   "source": [
    "### with or without keyword `virtual` [⬀](https://en.cppreference.com/w/cpp/language/virtual)\n",
    "\n",
    "If some member function `vf` is declared as `virtual` in a class `Base`, and some class `Derived`, which is derived, directly or indirectly, from `Base`, has a declaration for member function with the same\n",
    "\n",
    "* name\n",
    "* parameter type list (but not the return type)\n",
    "* cv-qualifiers\n",
    "* ref-qualifiers\n",
    "\n",
    "Then this function in the class `Derived` is also *`virtual`* (whether or not the keyword `virtual` is used in its declaration) and *overrides* `Base::vf` (whether or not the word `override` is used in its declaration).\n",
    "\n",
    "`Base::vf` does not need to be visible (can be declared private, or inherited using private inheritance) to be overridden.\n",
    "\n",
    "...\n",
    "\n",
    "A function with the same name but different parameter list does not override the base function of the same name, but *hides* it: when [unqualified name lookup](https://en.cppreference.com/w/cpp/language/lookup) examines the scope of the derived class, the lookup finds the declaration and does not examine the base class.\n",
    "\n",
    "\n",
    "### Virtual destructor [⬀](https://en.cppreference.com/w/cpp/language/virtual)\n",
    "\n",
    "Even though destructors are not inherited, if a base class declares its destructor `virtual`, the derived destructor always overrides it. This makes it possible to delete dynamically allocated objects of polymorphic type through pointers to base.\n",
    "\n",
    "Moreover, if a class is *polymorphic* (declares or inherits at least one virtual function), and its destructor is not virtual, deleting it is *undefined behavior* regardless of whether there are resources that would be leaked if the derived destructor is not invoked.\n",
    "\n",
    "A useful guideline is that the destructor of any base class must be [public and virtual or protected and non-virtual](https://github.com/isocpp/CppCoreGuidelines/blob/master/CppCoreGuidelines.md#discussion-make-base-class-destructors-public-and-virtual-or-protected-and-nonvirtual)."
   ]
  },
  {
   "cell_type": "markdown",
   "metadata": {},
   "source": [
    "-----"
   ]
  },
  {
   "cell_type": "code",
   "execution_count": 1,
   "metadata": {
    "ExecuteTime": {
     "end_time": "2019-03-18T05:38:37Z\u0000",
     "start_time": "2019-03-18T05:38:37Z\u0000"
    }
   },
   "outputs": [],
   "source": [
    "#include <iostream>\n",
    "#include <typeinfo>\n",
    "\n",
    "using namespace std;"
   ]
  },
  {
   "cell_type": "code",
   "execution_count": 2,
   "metadata": {
    "ExecuteTime": {
     "end_time": "2019-03-18T05:38:38Z\u0000",
     "start_time": "2019-03-18T05:38:37Z\u0000"
    }
   },
   "outputs": [],
   "source": [
    "class Animal\n",
    "{\n",
    "public:\n",
    "            Animal(void)  { cout << \"Animal born.\" << endl; }\n",
    "    virtual ~Animal(void) { cout << \"Animal dies.\" << endl; }\n",
    "\n",
    "            void eat000(void) { cout << \"Animal eats 000.\" << endl; }\n",
    "            void eat001(void) { cout << \"Animal eats 001.\" << endl; }\n",
    "            void eat010(void) { cout << \"Animal eats 010.\" << endl; }\n",
    "            void eat011(void) { cout << \"Animal eats 011.\" << endl; }\n",
    "    virtual void eat100(void) { cout << \"Animal eats 100.    (explicitly virtual)\" << endl; }\n",
    "    virtual void eat101(void) { cout << \"Animal eats 101.    (explicitly virtual)\" << endl; }\n",
    "    virtual void eat110(void) { cout << \"Animal eats 110.    (explicitly virtual)\" << endl; }\n",
    "    virtual void eat111(void) { cout << \"Animal eats 111.    (explicitly virtual)\" << endl; }\n",
    "};"
   ]
  },
  {
   "cell_type": "code",
   "execution_count": 3,
   "metadata": {
    "ExecuteTime": {
     "end_time": "2019-03-18T05:38:38Z\u0000",
     "start_time": "2019-03-18T05:38:38Z\u0000"
    }
   },
   "outputs": [],
   "source": [
    "class Dog : public Animal\n",
    "{\n",
    "public:\n",
    "    Dog(void)  { cout << \"\\tDog born.\" << endl; }\n",
    "    ~Dog(void) { cout << \"\\tDog dies. (automatically virtual)\" << endl; }\n",
    "\n",
    "            void eat000(void)          { cout << \"\\tDog eats 000.\" << endl; }\n",
    "            void eat001(void)          { cout << \"\\tDog eats 001.\" << endl; }\n",
    "    virtual void eat010(void)          { cout << \"\\tDog eats 010.    (explicitly virtual)\" << endl; }\n",
    "    virtual void eat011(void)          { cout << \"\\tDog eats 011.    (explicitly virtual)\" << endl; }\n",
    "            void eat100(void) override { cout << \"\\tDog eats 100. (automatically virtual)\" << endl; }\n",
    "            void eat101(void) override { cout << \"\\tDog eats 101. (automatically virtual)\" << endl; }\n",
    "    virtual void eat110(void) override { cout << \"\\tDog eats 110.    (explicitly virtual)\" << endl; }\n",
    "    virtual void eat111(void) override { cout << \"\\tDog eats 111.    (explicitly virtual)\" << endl; }\n",
    "};"
   ]
  },
  {
   "cell_type": "markdown",
   "metadata": {},
   "source": [
    "☝︎ note: `eat100` and `eat101` are virtual too"
   ]
  },
  {
   "cell_type": "code",
   "execution_count": 4,
   "metadata": {
    "ExecuteTime": {
     "end_time": "2019-03-18T05:38:40Z\u0000",
     "start_time": "2019-03-18T05:38:40Z\u0000"
    }
   },
   "outputs": [],
   "source": [
    "class Husky : public Dog\n",
    "{\n",
    "public:\n",
    "    Husky(void)  { cout << \"\\t\\tHusky born.\\n\"; }\n",
    "    ~Husky(void) { cout << \"\\t\\tHusky dies. (automatically virtual)\\n\"; }\n",
    "\n",
    "            void eat000(void)          { cout << \"\\t\\tHusky eats 000.\" << endl; }\n",
    "    virtual void eat001(void)          { cout << \"\\t\\tHusky eats 001.    (explicitly virtual)\" << endl; }\n",
    "            void eat010(void) override { cout << \"\\t\\tHusky eats 010. (automatically virtual)\" << endl; }\n",
    "    virtual void eat011(void) override { cout << \"\\t\\tHusky eats 011.    (explicitly virtual)\" << endl; }\n",
    "            void eat100(void) override { cout << \"\\t\\tHusky eats 100. (automatically virtual)\" << endl; }\n",
    "    virtual void eat101(void) override { cout << \"\\t\\tHusky eats 101.    (explicitly virtual)\" << endl; }\n",
    "            void eat110(void) override { cout << \"\\t\\tHusky eats 110. (automatically virtual)\" << endl; }\n",
    "    virtual void eat111(void) override { cout << \"\\t\\tHusky eats 111.    (explicitly virtual)\" << endl; }\n",
    "};"
   ]
  },
  {
   "cell_type": "markdown",
   "metadata": {},
   "source": [
    "-----"
   ]
  },
  {
   "cell_type": "code",
   "execution_count": 5,
   "metadata": {
    "ExecuteTime": {
     "end_time": "2019-03-18T05:38:41Z\u0000",
     "start_time": "2019-03-18T05:38:41Z\u0000"
    }
   },
   "outputs": [],
   "source": [
    "template <class T>\n",
    "void done_by(T * p)\n",
    "{\n",
    "    cout << \"------------------------------ <\" << typeid(T).name() << \">\\n\";\n",
    "\n",
    "    p->eat000();\n",
    "    p->eat001();\n",
    "    p->eat010();\n",
    "    p->eat011();\n",
    "    p->eat100();\n",
    "    p->eat101();\n",
    "    p->eat110();\n",
    "    p->eat111();\n",
    "\n",
    "    cout << endl << \"explicitly an animal\" << endl;\n",
    "\n",
    "    p->Animal::eat000();\n",
    "    p->Animal::eat001();\n",
    "    p->Animal::eat010();\n",
    "    p->Animal::eat011();\n",
    "    p->Animal::eat100();\n",
    "    p->Animal::eat101();\n",
    "    p->Animal::eat110();\n",
    "    p->Animal::eat111();\n",
    "\n",
    "    cout << endl;\n",
    "}"
   ]
  },
  {
   "cell_type": "markdown",
   "metadata": {},
   "source": [
    "-----"
   ]
  },
  {
   "cell_type": "markdown",
   "metadata": {},
   "source": [
    "# `new Husky`"
   ]
  },
  {
   "cell_type": "markdown",
   "metadata": {},
   "source": [
    "## as `Husky`"
   ]
  },
  {
   "cell_type": "code",
   "execution_count": 6,
   "metadata": {
    "ExecuteTime": {
     "end_time": "2019-03-18T05:38:44Z\u0000",
     "start_time": "2019-03-18T05:38:44Z\u0000"
    }
   },
   "outputs": [
    {
     "name": "stdout",
     "output_type": "stream",
     "text": [
      "Animal born.\n",
      "\tDog born.\n",
      "\t\tHusky born.\n",
      "------------------------------ <5Husky>\n",
      "\t\tHusky eats 000.\n",
      "\t\tHusky eats 001.    (explicitly virtual)\n",
      "\t\tHusky eats 010. (automatically virtual)\n",
      "\t\tHusky eats 011.    (explicitly virtual)\n",
      "\t\tHusky eats 100. (automatically virtual)\n",
      "\t\tHusky eats 101.    (explicitly virtual)\n",
      "\t\tHusky eats 110. (automatically virtual)\n",
      "\t\tHusky eats 111.    (explicitly virtual)\n",
      "\n",
      "explicitly an animal\n",
      "Animal eats 000.\n",
      "Animal eats 001.\n",
      "Animal eats 010.\n",
      "Animal eats 011.\n",
      "Animal eats 100.    (explicitly virtual)\n",
      "Animal eats 101.    (explicitly virtual)\n",
      "Animal eats 110.    (explicitly virtual)\n",
      "Animal eats 111.    (explicitly virtual)\n",
      "\n",
      "\t\tHusky dies. (automatically virtual)\n",
      "\tDog dies. (automatically virtual)\n",
      "Animal dies.\n"
     ]
    }
   ],
   "source": [
    "Husky * husky_husky = new Husky;\n",
    "done_by(husky_husky);\n",
    "delete husky_husky;"
   ]
  },
  {
   "cell_type": "markdown",
   "metadata": {},
   "source": [
    "## as `Dog`"
   ]
  },
  {
   "cell_type": "code",
   "execution_count": 7,
   "metadata": {
    "ExecuteTime": {
     "end_time": "2019-03-18T05:38:55Z\u0000",
     "start_time": "2019-03-18T05:38:55Z\u0000"
    }
   },
   "outputs": [
    {
     "name": "stdout",
     "output_type": "stream",
     "text": [
      "Animal born.\n",
      "\tDog born.\n",
      "\t\tHusky born.\n",
      "------------------------------ <3Dog>\n",
      "\tDog eats 000.\n",
      "\tDog eats 001.\n",
      "\t\tHusky eats 010. (automatically virtual)\n",
      "\t\tHusky eats 011.    (explicitly virtual)\n",
      "\t\tHusky eats 100. (automatically virtual)\n",
      "\t\tHusky eats 101.    (explicitly virtual)\n",
      "\t\tHusky eats 110. (automatically virtual)\n",
      "\t\tHusky eats 111.    (explicitly virtual)\n",
      "\n",
      "explicitly an animal\n",
      "Animal eats 000.\n",
      "Animal eats 001.\n",
      "Animal eats 010.\n",
      "Animal eats 011.\n",
      "Animal eats 100.    (explicitly virtual)\n",
      "Animal eats 101.    (explicitly virtual)\n",
      "Animal eats 110.    (explicitly virtual)\n",
      "Animal eats 111.    (explicitly virtual)\n",
      "\n",
      "\t\tHusky dies. (automatically virtual)\n",
      "\tDog dies. (automatically virtual)\n",
      "Animal dies.\n"
     ]
    }
   ],
   "source": [
    "Dog * dog_husky = new Husky;\n",
    "done_by(dog_husky);\n",
    "delete dog_husky;"
   ]
  },
  {
   "cell_type": "markdown",
   "metadata": {},
   "source": [
    "## as `Animal`"
   ]
  },
  {
   "cell_type": "code",
   "execution_count": 8,
   "metadata": {
    "ExecuteTime": {
     "end_time": "2019-03-18T05:39:00Z\u0000",
     "start_time": "2019-03-18T05:39:00Z\u0000"
    }
   },
   "outputs": [
    {
     "name": "stdout",
     "output_type": "stream",
     "text": [
      "Animal born.\n",
      "\tDog born.\n",
      "\t\tHusky born.\n",
      "------------------------------ <6Animal>\n",
      "Animal eats 000.\n",
      "Animal eats 001.\n",
      "Animal eats 010.\n",
      "Animal eats 011.\n",
      "\t\tHusky eats 100. (automatically virtual)\n",
      "\t\tHusky eats 101.    (explicitly virtual)\n",
      "\t\tHusky eats 110. (automatically virtual)\n",
      "\t\tHusky eats 111.    (explicitly virtual)\n",
      "\n",
      "explicitly an animal\n",
      "Animal eats 000.\n",
      "Animal eats 001.\n",
      "Animal eats 010.\n",
      "Animal eats 011.\n",
      "Animal eats 100.    (explicitly virtual)\n",
      "Animal eats 101.    (explicitly virtual)\n",
      "Animal eats 110.    (explicitly virtual)\n",
      "Animal eats 111.    (explicitly virtual)\n",
      "\n",
      "\t\tHusky dies. (automatically virtual)\n",
      "\tDog dies. (automatically virtual)\n",
      "Animal dies.\n"
     ]
    }
   ],
   "source": [
    "Animal * animal_husky = new Husky;\n",
    "done_by(animal_husky);\n",
    "delete animal_husky;"
   ]
  },
  {
   "cell_type": "markdown",
   "metadata": {},
   "source": [
    "## as `Dog` as `Animal`"
   ]
  },
  {
   "cell_type": "code",
   "execution_count": 9,
   "metadata": {
    "ExecuteTime": {
     "end_time": "2019-03-18T05:38:58Z\u0000",
     "start_time": "2019-03-18T05:38:57Z\u0000"
    }
   },
   "outputs": [
    {
     "name": "stdout",
     "output_type": "stream",
     "text": [
      "Animal born.\n",
      "\tDog born.\n",
      "\t\tHusky born.\n",
      "------------------------------ <6Animal>\n",
      "Animal eats 000.\n",
      "Animal eats 001.\n",
      "Animal eats 010.\n",
      "Animal eats 011.\n",
      "\t\tHusky eats 100. (automatically virtual)\n",
      "\t\tHusky eats 101.    (explicitly virtual)\n",
      "\t\tHusky eats 110. (automatically virtual)\n",
      "\t\tHusky eats 111.    (explicitly virtual)\n",
      "\n",
      "explicitly an animal\n",
      "Animal eats 000.\n",
      "Animal eats 001.\n",
      "Animal eats 010.\n",
      "Animal eats 011.\n",
      "Animal eats 100.    (explicitly virtual)\n",
      "Animal eats 101.    (explicitly virtual)\n",
      "Animal eats 110.    (explicitly virtual)\n",
      "Animal eats 111.    (explicitly virtual)\n",
      "\n",
      "\t\tHusky dies. (automatically virtual)\n",
      "\tDog dies. (automatically virtual)\n",
      "Animal dies.\n"
     ]
    }
   ],
   "source": [
    "Dog * dog_husky2 = new Husky;\n",
    "Animal * animal_dog_husky = dog_husky2;\n",
    "done_by(animal_dog_husky);\n",
    "delete animal_dog_husky;"
   ]
  },
  {
   "cell_type": "markdown",
   "metadata": {},
   "source": [
    "# `new Dog`"
   ]
  },
  {
   "cell_type": "markdown",
   "metadata": {},
   "source": [
    "## as `Dog`"
   ]
  },
  {
   "cell_type": "code",
   "execution_count": 10,
   "metadata": {
    "ExecuteTime": {
     "end_time": "2019-03-18T05:39:00Z\u0000",
     "start_time": "2019-03-18T05:39:00Z\u0000"
    }
   },
   "outputs": [
    {
     "name": "stdout",
     "output_type": "stream",
     "text": [
      "Animal born.\n",
      "\tDog born.\n",
      "------------------------------ <3Dog>\n",
      "\tDog eats 000.\n",
      "\tDog eats 001.\n",
      "\tDog eats 010.    (explicitly virtual)\n",
      "\tDog eats 011.    (explicitly virtual)\n",
      "\tDog eats 100. (automatically virtual)\n",
      "\tDog eats 101. (automatically virtual)\n",
      "\tDog eats 110.    (explicitly virtual)\n",
      "\tDog eats 111.    (explicitly virtual)\n",
      "\n",
      "explicitly an animal\n",
      "Animal eats 000.\n",
      "Animal eats 001.\n",
      "Animal eats 010.\n",
      "Animal eats 011.\n",
      "Animal eats 100.    (explicitly virtual)\n",
      "Animal eats 101.    (explicitly virtual)\n",
      "Animal eats 110.    (explicitly virtual)\n",
      "Animal eats 111.    (explicitly virtual)\n",
      "\n",
      "\tDog dies. (automatically virtual)\n",
      "Animal dies.\n"
     ]
    }
   ],
   "source": [
    "Dog * dog_dog = new Dog;\n",
    "done_by(dog_dog);\n",
    "delete dog_dog;"
   ]
  },
  {
   "cell_type": "markdown",
   "metadata": {},
   "source": [
    "## as `Animal`"
   ]
  },
  {
   "cell_type": "code",
   "execution_count": 11,
   "metadata": {
    "ExecuteTime": {
     "end_time": "2019-03-18T05:39:00Z\u0000",
     "start_time": "2019-03-18T05:39:00Z\u0000"
    }
   },
   "outputs": [
    {
     "name": "stdout",
     "output_type": "stream",
     "text": [
      "Animal born.\n",
      "\tDog born.\n",
      "------------------------------ <6Animal>\n",
      "Animal eats 000.\n",
      "Animal eats 001.\n",
      "Animal eats 010.\n",
      "Animal eats 011.\n",
      "\tDog eats 100. (automatically virtual)\n",
      "\tDog eats 101. (automatically virtual)\n",
      "\tDog eats 110.    (explicitly virtual)\n",
      "\tDog eats 111.    (explicitly virtual)\n",
      "\n",
      "explicitly an animal\n",
      "Animal eats 000.\n",
      "Animal eats 001.\n",
      "Animal eats 010.\n",
      "Animal eats 011.\n",
      "Animal eats 100.    (explicitly virtual)\n",
      "Animal eats 101.    (explicitly virtual)\n",
      "Animal eats 110.    (explicitly virtual)\n",
      "Animal eats 111.    (explicitly virtual)\n",
      "\n",
      "\tDog dies. (automatically virtual)\n",
      "Animal dies.\n"
     ]
    }
   ],
   "source": [
    "Animal * animal_dog = new Dog;\n",
    "done_by(animal_dog);\n",
    "delete animal_dog;"
   ]
  },
  {
   "cell_type": "markdown",
   "metadata": {},
   "source": [
    "-----"
   ]
  },
  {
   "cell_type": "markdown",
   "metadata": {},
   "source": [
    "# What won't work\n",
    "\n",
    "## only virtual member functions can be marked '`override`', so this won't work: "
   ]
  },
  {
   "cell_type": "code",
   "execution_count": 12,
   "metadata": {
    "ExecuteTime": {
     "end_time": "2019-03-18T05:39:02Z\u0000",
     "start_time": "2019-03-18T05:39:02Z\u0000"
    }
   },
   "outputs": [
    {
     "name": "stderr",
     "output_type": "stream",
     "text": [
      "\u001b[1minput_line_19:6:31: \u001b[0m\u001b[0;1;31merror: \u001b[0m\u001b[1monly virtual member functions can be marked 'override'\u001b[0m\n",
      "            void eat000(void) override { cout << \"\\tDog eats 000.\" << endl; }\n",
      "\u001b[0;1;32m                              ^~~~~~~~~\n",
      "\u001b[0m\u001b[1minput_line_19:7:31: \u001b[0m\u001b[0;1;31merror: \u001b[0m\u001b[1monly virtual member functions can be marked 'override'\u001b[0m\n",
      "            void eat001(void) override { cout << \"\\tDog eats 001.\" << endl; }\n",
      "\u001b[0;1;32m                              ^~~~~~~~~\n",
      "\u001b[0m\u001b[1minput_line_19:8:18: \u001b[0m\u001b[0;1;31merror: \u001b[0m\u001b[1m'eat010' marked 'override' but does not override any member functions\u001b[0m\n",
      "    virtual void eat010(void) override { cout << \"\\tDog eats 010.\" << endl; }\n",
      "\u001b[0;1;32m                 ^\n",
      "\u001b[0m\u001b[1minput_line_19:9:18: \u001b[0m\u001b[0;1;31merror: \u001b[0m\u001b[1m'eat011' marked 'override' but does not override any member functions\u001b[0m\n",
      "    virtual void eat011(void) override { cout << \"\\tDog eats 011.\" << endl; }\n",
      "\u001b[0;1;32m                 ^\n",
      "\u001b[0m"
     ]
    },
    {
     "ename": "Interpreter Error",
     "evalue": "",
     "output_type": "error",
     "traceback": [
      "Interpreter Error: "
     ]
    }
   ],
   "source": [
    "class BadDog : public Animal\n",
    "{\n",
    "public:\n",
    "    BadDog(void)  { cout << \"\\tDog born.\" << endl; }\n",
    "    ~BadDog(void) { cout << \"\\tDog dies.\" << endl; }\n",
    "\n",
    "            void eat000(void) override { cout << \"\\tDog eats 000.\" << endl; }\n",
    "            void eat001(void) override { cout << \"\\tDog eats 001.\" << endl; }\n",
    "    virtual void eat010(void) override { cout << \"\\tDog eats 010.\" << endl; }\n",
    "    virtual void eat011(void) override { cout << \"\\tDog eats 011.\" << endl; }\n",
    "            void eat100(void) override { cout << \"\\tDog eats 100.\" << endl; }\n",
    "            void eat101(void) override { cout << \"\\tDog eats 101.\" << endl; }\n",
    "    virtual void eat110(void) override { cout << \"\\tDog eats 110.\" << endl; }\n",
    "    virtual void eat111(void) override { cout << \"\\tDog eats 111.\" << endl; }\n",
    "};"
   ]
  },
  {
   "cell_type": "markdown",
   "metadata": {},
   "source": [
    "-----"
   ]
  }
 ],
 "metadata": {
  "hide_input": false,
  "kernelspec": {
   "display_name": "C++17",
   "language": "C++17",
   "name": "xeus-cling-cpp17"
  },
  "language_info": {
   "codemirror_mode": "text/x-c++src",
   "file_extension": ".cpp",
   "mimetype": "text/x-c++src",
   "name": "c++",
   "version": "-std=c++17"
  },
  "varInspector": {
   "cols": {
    "lenName": 16,
    "lenType": 16,
    "lenVar": 40
   },
   "kernels_config": {
    "python": {
     "delete_cmd_postfix": "",
     "delete_cmd_prefix": "del ",
     "library": "var_list.py",
     "varRefreshCmd": "print(var_dic_list())"
    },
    "r": {
     "delete_cmd_postfix": ") ",
     "delete_cmd_prefix": "rm(",
     "library": "var_list.r",
     "varRefreshCmd": "cat(var_dic_list()) "
    }
   },
   "types_to_exclude": [
    "module",
    "function",
    "builtin_function_or_method",
    "instance",
    "_Feature"
   ],
   "window_display": false
  }
 },
 "nbformat": 4,
 "nbformat_minor": 2
}

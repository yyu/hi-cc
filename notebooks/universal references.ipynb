{
 "cells": [
  {
   "cell_type": "code",
   "execution_count": 1,
   "metadata": {},
   "outputs": [],
   "source": [
    "#include <iostream>\n",
    "#include <utility>\n",
    "#include <string>"
   ]
  },
  {
   "cell_type": "code",
   "execution_count": 2,
   "metadata": {},
   "outputs": [],
   "source": [
    "void ________________() {\n",
    "    std::cout << std::string(80, '-') << \"\\n\";\n",
    "}"
   ]
  },
  {
   "cell_type": "markdown",
   "metadata": {},
   "source": [
    "-----\n",
    "\n",
    "**universal reference**"
   ]
  },
  {
   "cell_type": "code",
   "execution_count": 3,
   "metadata": {},
   "outputs": [],
   "source": [
    "template <typename T>\n",
    "void f1(T&& x) {\n",
    "    std::cout << \"I catch all non-const lvalue and rvalue refs (T&, T&&)\\n\";\n",
    "}\n",
    "\n",
    "template <typename T>\n",
    "void f1(const T& x) {\n",
    "    std::cout << \"I catch const refs (const T&)\\n\";\n",
    "}\n",
    "\n",
    "template <typename T>\n",
    "void call_f1(T&& x) {\n",
    "    f1(std::forward<T>(x));\n",
    "}"
   ]
  },
  {
   "cell_type": "code",
   "execution_count": 4,
   "metadata": {},
   "outputs": [
    {
     "name": "stdout",
     "output_type": "stream",
     "text": [
      "I catch all non-const lvalue and rvalue refs (T&, T&&)\n"
     ]
    }
   ],
   "source": [
    "[](){\n",
    "    call_f1(3);\n",
    "}();"
   ]
  },
  {
   "cell_type": "code",
   "execution_count": 5,
   "metadata": {},
   "outputs": [
    {
     "name": "stdout",
     "output_type": "stream",
     "text": [
      "I catch all non-const lvalue and rvalue refs (T&, T&&)\n",
      "pi\n"
     ]
    }
   ],
   "source": [
    "[](){\n",
    "    std::string s = \"pi\";\n",
    "    call_f1(s);\n",
    "    std::cout << s << \"\\n\";\n",
    "}();"
   ]
  },
  {
   "cell_type": "code",
   "execution_count": 6,
   "metadata": {},
   "outputs": [
    {
     "name": "stdout",
     "output_type": "stream",
     "text": [
      "I catch const refs (const T&)\n"
     ]
    }
   ],
   "source": [
    "[](){\n",
    "    const std::string s = \"pi\";\n",
    "    call_f1(s);\n",
    "}();"
   ]
  },
  {
   "cell_type": "markdown",
   "metadata": {},
   "source": [
    "-----\n",
    "\n",
    "from **Effective Modern C++ :: Item 24**:\n",
    "\n",
    "    If you see “T&&” without type deduction, you’re looking at an rvalue reference:"
   ]
  },
  {
   "cell_type": "code",
   "execution_count": 7,
   "metadata": {},
   "outputs": [],
   "source": [
    "// for some unknown reason, I have to put them in a struct/class\n",
    "struct S2 {\n",
    "    void f2(int&& x) {\n",
    "        std::cout << \"I catch rvalue refs\\n\";\n",
    "    }\n",
    "\n",
    "    void f2(const int& x) {\n",
    "        std::cout << \"I catch lvalue refs\\n\";\n",
    "    }\n",
    "\n",
    "    template <typename T>\n",
    "    void call_f2(T&& x) {\n",
    "        f2(std::forward<T>(x));\n",
    "    }\n",
    "};"
   ]
  },
  {
   "cell_type": "code",
   "execution_count": 8,
   "metadata": {},
   "outputs": [
    {
     "name": "stdout",
     "output_type": "stream",
     "text": [
      "I catch rvalue refs\n"
     ]
    }
   ],
   "source": [
    "[](){\n",
    "    S2().call_f2(3);\n",
    "}();"
   ]
  },
  {
   "cell_type": "code",
   "execution_count": 9,
   "metadata": {},
   "outputs": [
    {
     "name": "stdout",
     "output_type": "stream",
     "text": [
      "I catch lvalue refs\n"
     ]
    }
   ],
   "source": [
    "[](){\n",
    "    int pi = 314;\n",
    "    S2().call_f2(pi);\n",
    "}();"
   ]
  },
  {
   "cell_type": "code",
   "execution_count": 10,
   "metadata": {},
   "outputs": [
    {
     "name": "stdout",
     "output_type": "stream",
     "text": [
      "I catch lvalue refs\n"
     ]
    }
   ],
   "source": [
    "[](){\n",
    "    const int pi = 314;\n",
    "    S2().call_f2(pi);\n",
    "}();"
   ]
  },
  {
   "cell_type": "markdown",
   "metadata": {},
   "source": [
    "-----\n",
    "\n",
    "from **Effective Modern C++ :: Item 24**:\n",
    "\n",
    "    If you’re in a template and you see a function parameter of type “T&&”, you might think you can assume that it’s a universal reference. You can’t. That’s because being in a template doesn’t guarantee the presence of type deduction."
   ]
  },
  {
   "cell_type": "code",
   "execution_count": 11,
   "metadata": {},
   "outputs": [],
   "source": [
    "template <typename V>\n",
    "struct ST {\n",
    "    void ft(V&& x) {\n",
    "        std::cout << \"I catch rvalue refs only, because there's no type deduction!\\n\";\n",
    "    }\n",
    "\n",
    "    void ft(const V& x) {\n",
    "        std::cout << \"I catch lvalue refs\\n\";\n",
    "    }\n",
    "\n",
    "    template <typename T>\n",
    "    void call_ft(T&& x) {\n",
    "        ft(std::forward<T>(x));\n",
    "    }\n",
    "};"
   ]
  },
  {
   "cell_type": "code",
   "execution_count": 12,
   "metadata": {},
   "outputs": [
    {
     "name": "stdout",
     "output_type": "stream",
     "text": [
      "I catch rvalue refs only, because there's no type deduction!\n"
     ]
    }
   ],
   "source": [
    "[](){\n",
    "    ST<int>().call_ft(3);\n",
    "}();"
   ]
  },
  {
   "cell_type": "code",
   "execution_count": 13,
   "metadata": {},
   "outputs": [
    {
     "name": "stdout",
     "output_type": "stream",
     "text": [
      "I catch lvalue refs\n"
     ]
    }
   ],
   "source": [
    "[](){\n",
    "    int pi = 314;\n",
    "    ST<int>().call_ft(pi);\n",
    "}();"
   ]
  },
  {
   "cell_type": "code",
   "execution_count": 14,
   "metadata": {},
   "outputs": [
    {
     "name": "stdout",
     "output_type": "stream",
     "text": [
      "I catch lvalue refs\n"
     ]
    }
   ],
   "source": [
    "[](){\n",
    "    const int pi = 314;\n",
    "    ST<int>().call_ft(pi);\n",
    "}();"
   ]
  },
  {
   "cell_type": "code",
   "execution_count": null,
   "metadata": {},
   "outputs": [],
   "source": []
  }
 ],
 "metadata": {
  "kernelspec": {
   "display_name": "C++17",
   "language": "C++17",
   "name": "xcpp17"
  },
  "language_info": {
   "codemirror_mode": "text/x-c++src",
   "file_extension": ".cpp",
   "mimetype": "text/x-c++src",
   "name": "c++",
   "version": "17"
  }
 },
 "nbformat": 4,
 "nbformat_minor": 4
}

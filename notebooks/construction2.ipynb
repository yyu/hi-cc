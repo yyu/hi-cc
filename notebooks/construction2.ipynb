{
 "cells": [
  {
   "cell_type": "code",
   "execution_count": 1,
   "metadata": {},
   "outputs": [],
   "source": [
    "// https://herbsutter.com/2013/05/09/gotw-1-solution/"
   ]
  },
  {
   "cell_type": "code",
   "execution_count": 2,
   "metadata": {},
   "outputs": [],
   "source": [
    "#include <iostream>"
   ]
  },
  {
   "cell_type": "code",
   "execution_count": 3,
   "metadata": {},
   "outputs": [],
   "source": [
    "void ________________() {\n",
    "    std::cout << std::string(80, '-') << \"\\n\";\n",
    "}"
   ]
  },
  {
   "cell_type": "code",
   "execution_count": 4,
   "metadata": {},
   "outputs": [],
   "source": [
    "class TheInt {\n",
    "public:\n",
    "    TheInt() {\n",
    "        std::cout << \"I'm TheInt's constructor (no arg).\" << \"\\n\";\n",
    "    }\n",
    "\n",
    "    TheInt(int x) : x_(x) {\n",
    "        std::cout << \"I'm TheInt's constructor.\" << \"\\n\";\n",
    "    }\n",
    "\n",
    "    TheInt(const TheInt& other) : x_(other.x_) {\n",
    "        std::cout << \"I'm TheInt's copy constructor.\" << \"\\n\";\n",
    "    }\n",
    "\n",
    "    TheInt(TheInt&& other) : x_(std::move(other.x_)) {\n",
    "        std::cout << \"I'm TheInt's move constructor.\" << \"\\n\";\n",
    "    }\n",
    "\n",
    "    TheInt& operator=(const TheInt& other) {\n",
    "        x_ = other.x_;\n",
    "        std::cout << \"I'm assignment.\" << \"\\n\";\n",
    "        return *this;\n",
    "    }\n",
    "\n",
    "    void func() {\n",
    "        std::cout << \"TheInt::func() \" << x_ << \"\\n\";\n",
    "    }\n",
    "\n",
    "private:\n",
    "    int x_;\n",
    "};"
   ]
  },
  {
   "cell_type": "code",
   "execution_count": 5,
   "metadata": {},
   "outputs": [
    {
     "name": "stdout",
     "output_type": "stream",
     "text": [
      "I'm TheInt's constructor (no arg).\n",
      "TheInt::func() 21\n"
     ]
    }
   ],
   "source": [
    "[](){\n",
    "    TheInt i;\n",
    "\n",
    "    // https://stackoverflow.com/questions/3127454/how-do-c-class-members-get-initialized-if-i-dont-do-it-explicitly\n",
    "    // https://en.cppreference.com/w/cpp/language/default_initialization\n",
    "    i.func(); // will show x_ is uninitialized - it contains whatever arbitrary junk happened\n",
    "              //                                 to be at that memory location previously\n",
    "}();"
   ]
  },
  {
   "cell_type": "code",
   "execution_count": 6,
   "metadata": {},
   "outputs": [
    {
     "name": "stdout",
     "output_type": "stream",
     "text": [
      "I'm TheInt's constructor.\n"
     ]
    }
   ],
   "source": [
    "[](){\n",
    "    TheInt i(100);\n",
    "}();"
   ]
  },
  {
   "cell_type": "code",
   "execution_count": 7,
   "metadata": {},
   "outputs": [
    {
     "name": "stdout",
     "output_type": "stream",
     "text": [
      "I'm TheInt's constructor.\n"
     ]
    }
   ],
   "source": [
    "[](){\n",
    "    TheInt i = 100;  // YES! same as `TheInt i(100);` but more readable\n",
    "}();"
   ]
  },
  {
   "cell_type": "code",
   "execution_count": 8,
   "metadata": {},
   "outputs": [
    {
     "name": "stdout",
     "output_type": "stream",
     "text": [
      "I'm TheInt's constructor.\n"
     ]
    }
   ],
   "source": [
    "[](){\n",
    "    TheInt i = TheInt(100);  // attention! only one TheInt is constructed\n",
    "}();"
   ]
  },
  {
   "cell_type": "code",
   "execution_count": 9,
   "metadata": {},
   "outputs": [
    {
     "name": "stdout",
     "output_type": "stream",
     "text": [
      "I'm TheInt's constructor.\n"
     ]
    }
   ],
   "source": [
    "[](){\n",
    "    TheInt i(TheInt(100));  // attention! only one TheInt is constructed\n",
    "}();"
   ]
  },
  {
   "cell_type": "code",
   "execution_count": 11,
   "metadata": {},
   "outputs": [
    {
     "name": "stdout",
     "output_type": "stream",
     "text": [
      "I'm TheInt's constructor.\n",
      "I'm TheInt's move constructor.\n"
     ]
    }
   ],
   "source": [
    "[](){\n",
    "    TheInt i(std::move(TheInt(100)));  // surprisingly, this is even worse than `TheInt i(TheInt(100));`\n",
    "}();"
   ]
  },
  {
   "cell_type": "code",
   "execution_count": 12,
   "metadata": {},
   "outputs": [
    {
     "name": "stdout",
     "output_type": "stream",
     "text": [
      "I'm TheInt's constructor.\n",
      "I'm TheInt's copy constructor.\n"
     ]
    }
   ],
   "source": [
    "[](){\n",
    "    TheInt i(100);\n",
    "    TheInt j = i;  // construction, not assignment\n",
    "}();"
   ]
  },
  {
   "cell_type": "code",
   "execution_count": 13,
   "metadata": {},
   "outputs": [
    {
     "name": "stdout",
     "output_type": "stream",
     "text": [
      "I'm TheInt's constructor.\n",
      "I'm TheInt's constructor.\n",
      "I'm assignment.\n"
     ]
    }
   ],
   "source": [
    "[](){\n",
    "    TheInt i(100);\n",
    "    TheInt j(200);\n",
    "    j = i;  // assignment\n",
    "}();"
   ]
  },
  {
   "cell_type": "code",
   "execution_count": 10,
   "metadata": {},
   "outputs": [
    {
     "name": "stdout",
     "output_type": "stream",
     "text": [
      "I'm TheInt's constructor (no arg).\n",
      "I'm TheInt's constructor.\n",
      "I'm assignment.\n"
     ]
    }
   ],
   "source": [
    "[](){\n",
    "    TheInt i;\n",
    "    i = TheInt(100);\n",
    "}();"
   ]
  },
  {
   "cell_type": "code",
   "execution_count": 14,
   "metadata": {},
   "outputs": [
    {
     "name": "stdout",
     "output_type": "stream",
     "text": [
      "I'm TheInt's constructor.\n",
      "I'm TheInt's copy constructor.\n"
     ]
    }
   ],
   "source": [
    "[](){\n",
    "    TheInt i(100);\n",
    "    TheInt j(i);\n",
    "}();"
   ]
  },
  {
   "cell_type": "code",
   "execution_count": 15,
   "metadata": {},
   "outputs": [
    {
     "name": "stdout",
     "output_type": "stream",
     "text": [
      "I'm TheInt's constructor.\n",
      "I'm TheInt's move constructor.\n"
     ]
    }
   ],
   "source": [
    "[](){\n",
    "    TheInt i(100);\n",
    "    TheInt j(std::move(i));\n",
    "}();"
   ]
  }
 ],
 "metadata": {
  "kernelspec": {
   "display_name": "C++17",
   "language": "C++17",
   "name": "xcpp17"
  },
  "language_info": {
   "codemirror_mode": "text/x-c++src",
   "file_extension": ".cpp",
   "mimetype": "text/x-c++src",
   "name": "c++",
   "version": "17"
  }
 },
 "nbformat": 4,
 "nbformat_minor": 4
}

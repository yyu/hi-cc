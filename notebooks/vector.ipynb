{
 "cells": [
  {
   "cell_type": "code",
   "execution_count": 1,
   "metadata": {},
   "outputs": [],
   "source": [
    "#include <iostream>\n",
    "#include <vector>"
   ]
  },
  {
   "cell_type": "code",
   "execution_count": 2,
   "metadata": {},
   "outputs": [],
   "source": [
    "void ________________() {\n",
    "    std::cout << std::string(80, '-') << \"\\n\";\n",
    "}"
   ]
  },
  {
   "cell_type": "code",
   "execution_count": 3,
   "metadata": {},
   "outputs": [
    {
     "name": "stdout",
     "output_type": "stream",
     "text": [
      "vec.size(): 1\n",
      "\n",
      "elements:\n",
      "3\n",
      "\n"
     ]
    }
   ],
   "source": [
    "[]() {\n",
    "    std::vector<int> vec{3};\n",
    "    \n",
    "    std::cout << \"vec.size(): \" << vec.size() << \"\\n\";\n",
    "\n",
    "    std::cout << \"\\nelements:\\n\";\n",
    "    for (auto& element : vec) {\n",
    "        std::cout << element << \"\\n\";\n",
    "    }\n",
    "    std::cout << \"\\n\";\n",
    "}();"
   ]
  },
  {
   "cell_type": "code",
   "execution_count": 4,
   "metadata": {},
   "outputs": [
    {
     "name": "stdout",
     "output_type": "stream",
     "text": [
      "vec.size(): 3\n",
      "\n",
      "elements:\n",
      "0\n",
      "0\n",
      "0\n",
      "\n"
     ]
    }
   ],
   "source": [
    "[]() {\n",
    "    std::vector<int> vec(3);\n",
    "    \n",
    "    std::cout << \"vec.size(): \" << vec.size() << \"\\n\";\n",
    "\n",
    "    std::cout << \"\\nelements:\\n\";\n",
    "    for (auto& element : vec) {\n",
    "        std::cout << element << \"\\n\";\n",
    "    }\n",
    "    std::cout << \"\\n\";\n",
    "}();"
   ]
  },
  {
   "cell_type": "code",
   "execution_count": 5,
   "metadata": {},
   "outputs": [
    {
     "name": "stdout",
     "output_type": "stream",
     "text": [
      "vec.size(): 2\n",
      "\n",
      "elements:\n",
      "3\n",
      "1\n",
      "\n"
     ]
    }
   ],
   "source": [
    "[]() {\n",
    "    std::vector<int> vec{3, 1};\n",
    "    \n",
    "    std::cout << \"vec.size(): \" << vec.size() << \"\\n\";\n",
    "\n",
    "    std::cout << \"\\nelements:\\n\";\n",
    "    for (auto& element : vec) {\n",
    "        std::cout << element << \"\\n\";\n",
    "    }\n",
    "    std::cout << \"\\n\";\n",
    "}();"
   ]
  },
  {
   "cell_type": "code",
   "execution_count": 6,
   "metadata": {},
   "outputs": [
    {
     "name": "stdout",
     "output_type": "stream",
     "text": [
      "vec.size(): 3\n",
      "\n",
      "elements:\n",
      "1\n",
      "1\n",
      "1\n",
      "\n"
     ]
    }
   ],
   "source": [
    "[]() {\n",
    "    std::vector<int> vec(3, 1);\n",
    "    \n",
    "    std::cout << \"vec.size(): \" << vec.size() << \"\\n\";\n",
    "\n",
    "    std::cout << \"\\nelements:\\n\";\n",
    "    for (auto& element : vec) {\n",
    "        std::cout << element << \"\\n\";\n",
    "    }\n",
    "    std::cout << \"\\n\";\n",
    "}();"
   ]
  },
  {
   "cell_type": "code",
   "execution_count": 7,
   "metadata": {},
   "outputs": [
    {
     "name": "stdout",
     "output_type": "stream",
     "text": [
      "vec.size(): 3\n",
      "\n",
      "elements:\n",
      "3\n",
      "1\n",
      "4\n",
      "\n"
     ]
    }
   ],
   "source": [
    "[]() {\n",
    "    std::vector<int> vec{3, 1, 4};\n",
    "    // won't work - std::vector<int> vec(3, 1, 4);\n",
    "    \n",
    "    std::cout << \"vec.size(): \" << vec.size() << \"\\n\";\n",
    "\n",
    "    std::cout << \"\\nelements:\\n\";\n",
    "    for (auto& element : vec) {\n",
    "        std::cout << element << \"\\n\";\n",
    "    }\n",
    "    std::cout << \"\\n\";\n",
    "}();"
   ]
  },
  {
   "cell_type": "code",
   "execution_count": null,
   "metadata": {},
   "outputs": [],
   "source": []
  }
 ],
 "metadata": {
  "kernelspec": {
   "display_name": "C++17",
   "language": "C++17",
   "name": "xcpp17"
  },
  "language_info": {
   "codemirror_mode": "text/x-c++src",
   "file_extension": ".cpp",
   "mimetype": "text/x-c++src",
   "name": "c++",
   "version": "17"
  }
 },
 "nbformat": 4,
 "nbformat_minor": 4
}

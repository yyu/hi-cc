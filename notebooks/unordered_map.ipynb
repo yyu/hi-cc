{
 "cells": [
  {
   "cell_type": "code",
   "execution_count": 1,
   "metadata": {},
   "outputs": [],
   "source": [
    "#include <iostream>\n",
    "#include <unordered_map>"
   ]
  },
  {
   "cell_type": "code",
   "execution_count": 2,
   "metadata": {},
   "outputs": [],
   "source": [
    "void ________________() {\n",
    "    std::cout << std::string(80, '-') << \"\\n\";\n",
    "}"
   ]
  },
  {
   "cell_type": "code",
   "execution_count": 3,
   "metadata": {},
   "outputs": [],
   "source": [
    "std::unordered_map<std::string, int> m;"
   ]
  },
  {
   "cell_type": "code",
   "execution_count": 4,
   "metadata": {},
   "outputs": [],
   "source": [
    "m[\"foo\"] = 1;\n",
    "m[\"bar\"] = 2;\n",
    "m[\"baz\"] = 3;"
   ]
  },
  {
   "cell_type": "code",
   "execution_count": 5,
   "metadata": {},
   "outputs": [],
   "source": [
    "auto iter = m.begin();"
   ]
  },
  {
   "cell_type": "code",
   "execution_count": 6,
   "metadata": {},
   "outputs": [
    {
     "name": "stdout",
     "output_type": "stream",
     "text": [
      "baz => 3"
     ]
    }
   ],
   "source": [
    "[](){\n",
    "    auto [k, v] = *iter;\n",
    "    std::cout << k << \" => \" << v;\n",
    "}();"
   ]
  },
  {
   "cell_type": "code",
   "execution_count": 7,
   "metadata": {},
   "outputs": [
    {
     "name": "stdout",
     "output_type": "stream",
     "text": [
      "1"
     ]
    }
   ],
   "source": [
    "[](){\n",
    "    auto [_, v] = *++iter;\n",
    "    std::cout << v;\n",
    "}();"
   ]
  },
  {
   "cell_type": "code",
   "execution_count": 8,
   "metadata": {},
   "outputs": [
    {
     "name": "stdout",
     "output_type": "stream",
     "text": [
      "bar => 3\n",
      "boo => 2\n"
     ]
    }
   ],
   "source": [
    "[](){\n",
    "    std::unordered_map<std::string, int> m;\n",
    "\n",
    "    m[\"foo\"] = 1;\n",
    "    m[\"boo\"] = 2;\n",
    "    m[\"bar\"] = 3;\n",
    "    m[\"baz\"] = 4;\n",
    "\n",
    "    auto iter = m.begin();\n",
    "\n",
    "    ++iter;\n",
    "\n",
    "    {\n",
    "        auto& [k, v] = *iter;\n",
    "        std::cout << k << \" => \" << v << \"\\n\";\n",
    "\n",
    "        // iter will be invalidated, so increment should be done before calling erase()\n",
    "        ++iter;\n",
    "\n",
    "        m.erase(k);\n",
    "    }\n",
    "\n",
    "    {\n",
    "        auto& [k, v] = *++iter;\n",
    "        std::cout << k << \" => \" << v << \"\\n\";\n",
    "    }\n",
    "}();"
   ]
  },
  {
   "cell_type": "code",
   "execution_count": 9,
   "metadata": {},
   "outputs": [
    {
     "name": "stdout",
     "output_type": "stream",
     "text": [
      "\n",
      "m:\n",
      "baz => 4\n",
      "bar => 3\n",
      "foo => 1\n",
      "boo => 2\n",
      "\n",
      "m:\n",
      "baz => 4\n",
      "bar => 3\n",
      "foo => 1\n"
     ]
    }
   ],
   "source": [
    "[](){\n",
    "    std::unordered_map<std::string, int> m;\n",
    "\n",
    "    m[\"foo\"] = 1;\n",
    "    m[\"boo\"] = 2;\n",
    "    m[\"bar\"] = 3;\n",
    "    m[\"baz\"] = 4;\n",
    "\n",
    "    std::cout << \"\\nm:\\n\";\n",
    "    for (auto& [k, v] : m) {\n",
    "        std::cout << k << \" => \" << v << \"\\n\";\n",
    "    }\n",
    "\n",
    "    for (auto& [k, v] : m) {\n",
    "        if (k == \"boo\") {\n",
    "            m.erase(k);  // erase while using structured binding to iterate the container\n",
    "        }\n",
    "    }\n",
    "\n",
    "    std::cout << \"\\nm:\\n\";\n",
    "    for (auto& [k, v] : m) {\n",
    "        std::cout << k << \" => \" << v << \"\\n\";\n",
    "    }\n",
    "}();"
   ]
  },
  {
   "cell_type": "code",
   "execution_count": null,
   "metadata": {},
   "outputs": [],
   "source": []
  }
 ],
 "metadata": {
  "kernelspec": {
   "display_name": "C++17",
   "language": "C++17",
   "name": "xcpp17"
  },
  "language_info": {
   "codemirror_mode": "text/x-c++src",
   "file_extension": ".cpp",
   "mimetype": "text/x-c++src",
   "name": "c++",
   "version": "17"
  }
 },
 "nbformat": 4,
 "nbformat_minor": 4
}

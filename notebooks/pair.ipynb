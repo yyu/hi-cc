{
 "cells": [
  {
   "cell_type": "code",
   "execution_count": 1,
   "metadata": {},
   "outputs": [],
   "source": [
    "#include <iostream>\n",
    "#include <utility>\n",
    "#include <string>"
   ]
  },
  {
   "cell_type": "code",
   "execution_count": 2,
   "metadata": {},
   "outputs": [],
   "source": [
    "void ________________() {\n",
    "    std::cout << std::string(80, '-') << \"\\n\";\n",
    "}"
   ]
  },
  {
   "cell_type": "code",
   "execution_count": 3,
   "metadata": {},
   "outputs": [
    {
     "name": "stdout",
     "output_type": "stream",
     "text": [
      "pi0 => 3"
     ]
    }
   ],
   "source": [
    "[]() {\n",
    "    std::pair<std::string, int> foo{\"pi0\", 3};\n",
    "    std::cout << foo.first << \" => \" << foo.second;\n",
    "}();"
   ]
  },
  {
   "cell_type": "code",
   "execution_count": 4,
   "metadata": {},
   "outputs": [
    {
     "name": "stdout",
     "output_type": "stream",
     "text": [
      "pi0 => 3"
     ]
    }
   ],
   "source": [
    "[]() {\n",
    "    std::pair<std::string, int> foo(\"pi0\", 3);\n",
    "    std::cout << foo.first << \" => \" << foo.second;\n",
    "}();"
   ]
  },
  {
   "cell_type": "code",
   "execution_count": 5,
   "metadata": {},
   "outputs": [
    {
     "name": "stdout",
     "output_type": "stream",
     "text": [
      "pi0 => 3"
     ]
    }
   ],
   "source": [
    "[]() {\n",
    "    std::pair<std::string, int> foo = std::make_pair(\"pi0\", 3);\n",
    "    std::cout << foo.first << \" => \" << foo.second;\n",
    "}();"
   ]
  },
  {
   "cell_type": "code",
   "execution_count": 6,
   "metadata": {},
   "outputs": [
    {
     "name": "stdout",
     "output_type": "stream",
     "text": [
      "pi0 => 3"
     ]
    }
   ],
   "source": [
    "[]() {\n",
    "    std::pair<std::string, int> foo = std::make_pair(std::string(\"pi0\"), 3);\n",
    "    std::cout << foo.first << \" => \" << foo.second;\n",
    "}();"
   ]
  },
  {
   "cell_type": "code",
   "execution_count": 7,
   "metadata": {},
   "outputs": [
    {
     "name": "stdout",
     "output_type": "stream",
     "text": [
      "pi0 => 3\n",
      "pi0 => 3\n",
      "pi0 => 3\n"
     ]
    }
   ],
   "source": [
    "[]() {\n",
    "    std::pair<std::string, int> foo{\"pi0\", 3};\n",
    "    std::cout << foo.first << \" => \" << foo.second << \"\\n\";\n",
    "    \n",
    "    auto [s, i] = foo;\n",
    "    std::cout << s << \" => \" << i << \"\\n\";\n",
    "    i = 314;\n",
    "    std::cout << foo.first << \" => \" << foo.second << \"\\n\";\n",
    "}();"
   ]
  },
  {
   "cell_type": "code",
   "execution_count": 8,
   "metadata": {},
   "outputs": [
    {
     "name": "stdout",
     "output_type": "stream",
     "text": [
      "pi0 => 3\n",
      "pi0 => 3\n",
      "pi => 314\n"
     ]
    }
   ],
   "source": [
    "[]() {\n",
    "    std::pair<std::string, int> foo{\"pi0\", 3};\n",
    "    std::cout << foo.first << \" => \" << foo.second << \"\\n\";\n",
    "    \n",
    "    auto& [s, i] = foo;\n",
    "    std::cout << s << \" => \" << i << \"\\n\";\n",
    "    s = \"pi\";\n",
    "    i = 314;\n",
    "    std::cout << foo.first << \" => \" << foo.second << \"\\n\";\n",
    "}();"
   ]
  },
  {
   "cell_type": "code",
   "execution_count": null,
   "metadata": {},
   "outputs": [],
   "source": []
  }
 ],
 "metadata": {
  "kernelspec": {
   "display_name": "C++17",
   "language": "C++17",
   "name": "xcpp17"
  },
  "language_info": {
   "codemirror_mode": "text/x-c++src",
   "file_extension": ".cpp",
   "mimetype": "text/x-c++src",
   "name": "c++",
   "version": "17"
  }
 },
 "nbformat": 4,
 "nbformat_minor": 4
}
